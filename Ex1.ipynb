{
 "cells": [
  {
   "cell_type": "code",
   "execution_count": 5,
   "metadata": {},
   "outputs": [
    {
     "name": "stdout",
     "output_type": "stream",
     "text": [
      "Knowledge Shelf\n"
     ]
    }
   ],
   "source": [
    "print(\"Knowledge Shelf\")"
   ]
  },
  {
   "cell_type": "markdown",
   "metadata": {},
   "source": [
    "This is second class of AI\n",
    "\n",
    "# Knowledge Shelf\n",
    "## Knowledge Shelf\n",
    "### Knowledge Shelf\n",
    "#### Knowledge Shelf\n",
    "##### Knowledge Shelf\n",
    "###### Knowledge Shelf\n",
    "\n",
    "**Knowledge Shelf**\n",
    "<br>\n",
    "<br>\n",
    "<br>\n",
    "_Knowledge Shelf_"
   ]
  },
  {
   "cell_type": "markdown",
   "metadata": {},
   "source": [
    "<img src=\"https://camo.githubusercontent.com/888e388801f947dec7c3d843942c277af25fe2b1aed1821542c4e711f210312a/68747470733a2f2f75706c6f61642e77696b696d656469612e6f72672f77696b6970656469612f636f6d6d6f6e732f7468756d622f632f63332f507974686f6e2d6c6f676f2d6e6f746578742e7376672f37363870782d507974686f6e2d6c6f676f2d6e6f746578742e7376672e706e67\" alt=\"Girl in a jacket\" width=\"100\" height=\"100\">\n",
    "\n",
    "<br>\n",
    "<br>\n",
    "\n",
    "[Knowledge Shelf](https://www.knowledgeshelfit.com/)\n",
    "\n",
    "- This is first line.\n",
    "- this is second line.\n",
    "- this is third line."
   ]
  },
  {
   "cell_type": "code",
   "execution_count": 8,
   "metadata": {},
   "outputs": [
    {
     "name": "stdout",
     "output_type": "stream",
     "text": [
      "Hello, World!. Welcome to Mastery in AL.\n",
      "Hello, World!. Welcome to Mastery in AL.\n",
      "Hello, World!. Welcome to Mastery in AL.\n",
      "Hello, World!. Welcome to Mastery in AL.\n"
     ]
    }
   ],
   "source": [
    "print('Hello, World!. Welcome to Mastery in AL.')\n",
    "print(\"Hello, World!. Welcome to Mastery in AL.\")\n",
    "print('''Hello, World!. Welcome to Mastery in AL.''')\n",
    "print(\"\"\"Hello, World!. Welcome to Mastery in AL.\"\"\")"
   ]
  },
  {
   "cell_type": "code",
   "execution_count": 12,
   "metadata": {},
   "outputs": [
    {
     "name": "stdout",
     "output_type": "stream",
     "text": [
      "Python's string is very easy to use.\n",
      "Python's string is very easy to use.\n",
      "We can even include \"quotes\" in string\n"
     ]
    }
   ],
   "source": [
    "print('Python\\'s string is very easy to use.')\n",
    "print(\"Python's string is very easy to use.\")\n",
    "print('We can even include \"quotes\" in string')"
   ]
  },
  {
   "cell_type": "code",
   "execution_count": 16,
   "metadata": {},
   "outputs": [
    {
     "name": "stdout",
     "output_type": "stream",
     "text": [
      "HelloVishwajeet\n",
      "Hello Vishwajeet\n",
      "Hello Vishwajeet\n",
      "Hello Vishwajeet\n"
     ]
    }
   ],
   "source": [
    "print(\"Hello\" + \"Vishwajeet\")\n",
    "print(\"Hello\" +\" \" +\"Vishwajeet\")\n",
    "print(\"Hello\" + \" Vishwajeet\")\n",
    "print(\"Hello \" + \"Vishwajeet\")"
   ]
  },
  {
   "cell_type": "code",
   "execution_count": 20,
   "metadata": {},
   "outputs": [
    {
     "name": "stdout",
     "output_type": "stream",
     "text": [
      "1. This is line-1.\n",
      "2. This is line-2.\n",
      "3. This is line-3.\n"
     ]
    }
   ],
   "source": [
    "print(\"1. This is line-1.\\n2. This is line-2.\\n3. This is line-3.\")"
   ]
  },
  {
   "cell_type": "code",
   "execution_count": 24,
   "metadata": {},
   "outputs": [
    {
     "name": "stdout",
     "output_type": "stream",
     "text": [
      "1. This is line-1. 2. This is line-2.\n",
      "3. This is line-3.\n"
     ]
    }
   ],
   "source": [
    "print(\"\"\"1. This is line-1. 2. This is line-2.\n",
    "3. This is line-3.\"\"\")"
   ]
  },
  {
   "cell_type": "code",
   "execution_count": 30,
   "metadata": {},
   "outputs": [
    {
     "name": "stdout",
     "output_type": "stream",
     "text": [
      "1. This is line-1.\n",
      "2. This is line-2.\n",
      "3. This is line-3.\n"
     ]
    }
   ],
   "source": [
    "print(\"\"\"1. This is line-1.\n",
    "2. This is line-2.\n",
    "3. This is line-3.\"\"\")"
   ]
  },
  {
   "cell_type": "code",
   "execution_count": 32,
   "metadata": {},
   "outputs": [
    {
     "name": "stdout",
     "output_type": "stream",
     "text": [
      "It's right\n",
      "C:\\Users\\nY LENOVO\\Documents\\AI_Batch10\n",
      "1\t\t2\t3\t4\t5\n"
     ]
    }
   ],
   "source": [
    "txt = 'It\\'s right'\n",
    "print(txt)\n",
    "\n",
    "txt1 = \"C:\\\\Users\\\\nY LENOVO\\\\Documents\\\\AI_Batch10\"\n",
    "print(txt1)\n",
    "\n",
    "txt2 = \"1\\t\\t2\\t3\\t4\\t5\"\n",
    "print(txt2)"
   ]
  },
  {
   "cell_type": "code",
   "execution_count": 33,
   "metadata": {},
   "outputs": [
    {
     "name": "stdout",
     "output_type": "stream",
     "text": [
      "29\n",
      "15\n",
      "154\n",
      "3.142857142857143\n",
      "3\n",
      "1\n"
     ]
    }
   ],
   "source": [
    "print(22+7)\n",
    "print(22-7)\n",
    "print(22*7)\n",
    "print(22/7)\n",
    "print(22//7)\n",
    "print(22%7)"
   ]
  },
  {
   "cell_type": "code",
   "execution_count": 34,
   "metadata": {},
   "outputs": [
    {
     "data": {
      "text/plain": [
       "['ArithmeticError',\n",
       " 'AssertionError',\n",
       " 'AttributeError',\n",
       " 'BaseException',\n",
       " 'BlockingIOError',\n",
       " 'BrokenPipeError',\n",
       " 'BufferError',\n",
       " 'BytesWarning',\n",
       " 'ChildProcessError',\n",
       " 'ConnectionAbortedError',\n",
       " 'ConnectionError',\n",
       " 'ConnectionRefusedError',\n",
       " 'ConnectionResetError',\n",
       " 'DeprecationWarning',\n",
       " 'EOFError',\n",
       " 'Ellipsis',\n",
       " 'EnvironmentError',\n",
       " 'Exception',\n",
       " 'False',\n",
       " 'FileExistsError',\n",
       " 'FileNotFoundError',\n",
       " 'FloatingPointError',\n",
       " 'FutureWarning',\n",
       " 'GeneratorExit',\n",
       " 'IOError',\n",
       " 'ImportError',\n",
       " 'ImportWarning',\n",
       " 'IndentationError',\n",
       " 'IndexError',\n",
       " 'InterruptedError',\n",
       " 'IsADirectoryError',\n",
       " 'KeyError',\n",
       " 'KeyboardInterrupt',\n",
       " 'LookupError',\n",
       " 'MemoryError',\n",
       " 'ModuleNotFoundError',\n",
       " 'NameError',\n",
       " 'None',\n",
       " 'NotADirectoryError',\n",
       " 'NotImplemented',\n",
       " 'NotImplementedError',\n",
       " 'OSError',\n",
       " 'OverflowError',\n",
       " 'PendingDeprecationWarning',\n",
       " 'PermissionError',\n",
       " 'ProcessLookupError',\n",
       " 'RecursionError',\n",
       " 'ReferenceError',\n",
       " 'ResourceWarning',\n",
       " 'RuntimeError',\n",
       " 'RuntimeWarning',\n",
       " 'StopAsyncIteration',\n",
       " 'StopIteration',\n",
       " 'SyntaxError',\n",
       " 'SyntaxWarning',\n",
       " 'SystemError',\n",
       " 'SystemExit',\n",
       " 'TabError',\n",
       " 'TimeoutError',\n",
       " 'True',\n",
       " 'TypeError',\n",
       " 'UnboundLocalError',\n",
       " 'UnicodeDecodeError',\n",
       " 'UnicodeEncodeError',\n",
       " 'UnicodeError',\n",
       " 'UnicodeTranslateError',\n",
       " 'UnicodeWarning',\n",
       " 'UserWarning',\n",
       " 'ValueError',\n",
       " 'Warning',\n",
       " 'WindowsError',\n",
       " 'ZeroDivisionError',\n",
       " '__IPYTHON__',\n",
       " '__build_class__',\n",
       " '__debug__',\n",
       " '__doc__',\n",
       " '__import__',\n",
       " '__loader__',\n",
       " '__name__',\n",
       " '__package__',\n",
       " '__spec__',\n",
       " 'abs',\n",
       " 'all',\n",
       " 'any',\n",
       " 'ascii',\n",
       " 'bin',\n",
       " 'bool',\n",
       " 'breakpoint',\n",
       " 'bytearray',\n",
       " 'bytes',\n",
       " 'callable',\n",
       " 'chr',\n",
       " 'classmethod',\n",
       " 'compile',\n",
       " 'complex',\n",
       " 'copyright',\n",
       " 'credits',\n",
       " 'delattr',\n",
       " 'dict',\n",
       " 'dir',\n",
       " 'display',\n",
       " 'divmod',\n",
       " 'enumerate',\n",
       " 'eval',\n",
       " 'exec',\n",
       " 'filter',\n",
       " 'float',\n",
       " 'format',\n",
       " 'frozenset',\n",
       " 'get_ipython',\n",
       " 'getattr',\n",
       " 'globals',\n",
       " 'hasattr',\n",
       " 'hash',\n",
       " 'help',\n",
       " 'hex',\n",
       " 'id',\n",
       " 'input',\n",
       " 'int',\n",
       " 'isinstance',\n",
       " 'issubclass',\n",
       " 'iter',\n",
       " 'len',\n",
       " 'license',\n",
       " 'list',\n",
       " 'locals',\n",
       " 'map',\n",
       " 'max',\n",
       " 'memoryview',\n",
       " 'min',\n",
       " 'next',\n",
       " 'object',\n",
       " 'oct',\n",
       " 'open',\n",
       " 'ord',\n",
       " 'pow',\n",
       " 'print',\n",
       " 'property',\n",
       " 'range',\n",
       " 'repr',\n",
       " 'reversed',\n",
       " 'round',\n",
       " 'set',\n",
       " 'setattr',\n",
       " 'slice',\n",
       " 'sorted',\n",
       " 'staticmethod',\n",
       " 'str',\n",
       " 'sum',\n",
       " 'super',\n",
       " 'tuple',\n",
       " 'type',\n",
       " 'vars',\n",
       " 'zip']"
      ]
     },
     "execution_count": 34,
     "metadata": {},
     "output_type": "execute_result"
    }
   ],
   "source": [
    "dir(__builtins__)"
   ]
  },
  {
   "cell_type": "code",
   "execution_count": 35,
   "metadata": {},
   "outputs": [
    {
     "name": "stdout",
     "output_type": "stream",
     "text": [
      "Help on built-in function max in module builtins:\n",
      "\n",
      "max(...)\n",
      "    max(iterable, *[, default=obj, key=func]) -> value\n",
      "    max(arg1, arg2, *args, *[, key=func]) -> value\n",
      "    \n",
      "    With a single iterable argument, return its biggest item. The\n",
      "    default keyword-only argument specifies an object to return if\n",
      "    the provided iterable is empty.\n",
      "    With two or more arguments, return the largest argument.\n",
      "\n"
     ]
    }
   ],
   "source": [
    "help(max)"
   ]
  },
  {
   "cell_type": "code",
   "execution_count": 36,
   "metadata": {},
   "outputs": [
    {
     "data": {
      "text/plain": [
       "45"
      ]
     },
     "execution_count": 36,
     "metadata": {},
     "output_type": "execute_result"
    }
   ],
   "source": [
    "l1 = [20,10,5,19,30,45]\n",
    "\n",
    "max(l1)"
   ]
  },
  {
   "cell_type": "code",
   "execution_count": 45,
   "metadata": {},
   "outputs": [
    {
     "name": "stdout",
     "output_type": "stream",
     "text": [
      "Knowledge shelf\n",
      "<class 'str'>\n",
      "Vikas\n",
      "Vishwajeet\n"
     ]
    }
   ],
   "source": [
    "name = \"Knowledge shelf\"\n",
    "_name_ = \"Vikas\"\n",
    "\n",
    "_123name = \"Vishwajeet\"\n",
    "\n",
    "\n",
    "print(name)\n",
    "print(type(name))\n",
    "print(_name_)\n",
    "print(_123name)"
   ]
  },
  {
   "cell_type": "code",
   "execution_count": 47,
   "metadata": {},
   "outputs": [
    {
     "name": "stdout",
     "output_type": "stream",
     "text": [
      "Vishwajeet30\n"
     ]
    }
   ],
   "source": [
    "name = \"Vishwajeet\"\n",
    "\n",
    "age = 30\n",
    "\n",
    "print(name + str(age))"
   ]
  },
  {
   "cell_type": "code",
   "execution_count": 49,
   "metadata": {},
   "outputs": [
    {
     "name": "stdout",
     "output_type": "stream",
     "text": [
      "-35.0\n",
      "12.0\n"
     ]
    }
   ],
   "source": [
    "a = 12\n",
    "b = 3\n",
    "print(a + b / 3 - 4 * 12)\n",
    "print((((a+b)/3)-4)*12)"
   ]
  },
  {
   "cell_type": "code",
   "execution_count": 50,
   "metadata": {},
   "outputs": [
    {
     "name": "stdout",
     "output_type": "stream",
     "text": [
      "12.0\n"
     ]
    }
   ],
   "source": [
    "c = a+b\n",
    "d = c/3\n",
    "e = d-4\n",
    "print(e * 12)"
   ]
  },
  {
   "cell_type": "code",
   "execution_count": 63,
   "metadata": {},
   "outputs": [
    {
     "name": "stdout",
     "output_type": "stream",
     "text": [
      "Knowledge Shelf\n",
      "K\n",
      "l\n",
      "f\n",
      "Knowledge Shelf\n",
      "Knowle\n",
      "Knowle\n",
      "dge Shelf\n",
      "She\n",
      "KoldeSe\n",
      "Kwd e\n"
     ]
    }
   ],
   "source": [
    "youtube = \"Knowledge Shelf\"\n",
    "\n",
    "print(youtube)\n",
    "print(youtube[0])\n",
    "print(youtube[4])\n",
    "print(youtube[-1])\n",
    "# print(youtube[30])\n",
    "\n",
    "print(youtube[:])\n",
    "print(youtube[0:6])\n",
    "print(youtube[:6])\n",
    "print(youtube[6:])\n",
    "print(youtube[-5:-2])\n",
    "print(youtube[0:-1:2])\n",
    "print(youtube[0:-1:3])"
   ]
  },
  {
   "cell_type": "code",
   "execution_count": 80,
   "metadata": {},
   "outputs": [
    {
     "name": "stdout",
     "output_type": "stream",
     "text": [
      "My age is 30 Years.\n",
      "My age is 30 Years.\n",
      "My age is 30 years. My name is Vishwajeet\n",
      "my age is 30 years. My name is Vishwajeet\n",
      "My age is 30 years. My name is Vishwajeet.\n",
      "Pi is approx 3.14\n"
     ]
    }
   ],
   "source": [
    "age = 30\n",
    "name = \"Vishwajeet\"\n",
    "print(\"My age is \" + str(age) + \" Years.\")\n",
    "print(\"My age is\", age, \"Years.\")\n",
    "print(\"My age is {} years. My name is {}\".format(age, name))\n",
    "print(f\"my age is {age} years. My name is {name}\")\n",
    "print(\"My age is %d years. My name is %s.\"% (age, name))\n",
    "print(\"Pi is approx %.2f\"%(22/7))"
   ]
  },
  {
   "cell_type": "code",
   "execution_count": 85,
   "metadata": {},
   "outputs": [
    {
     "name": "stdin",
     "output_type": "stream",
     "text": [
      "Please enter the value: 1235\n"
     ]
    },
    {
     "name": "stdout",
     "output_type": "stream",
     "text": [
      "Hello,  1235\n",
      "<class 'str'>\n"
     ]
    }
   ],
   "source": [
    "var1 = input(\"Please enter the value:\")\n",
    "\n",
    "print(\"Hello, \",var1)\n",
    "print(type(var1))"
   ]
  },
  {
   "cell_type": "code",
   "execution_count": 87,
   "metadata": {},
   "outputs": [
    {
     "name": "stdin",
     "output_type": "stream",
     "text": [
      "Enter the value of var1: 2\n",
      "Enter the value of var2: 20\n"
     ]
    },
    {
     "name": "stdout",
     "output_type": "stream",
     "text": [
      "1048576\n"
     ]
    }
   ],
   "source": [
    "var1 = int(input(\"Enter the value of var1:\"))\n",
    "var2 = int(input(\"Enter the value of var2:\"))\n",
    "\n",
    "var3 = pow(var1,var2)\n",
    "print(var3)"
   ]
  },
  {
   "cell_type": "code",
   "execution_count": 91,
   "metadata": {},
   "outputs": [
    {
     "name": "stdin",
     "output_type": "stream",
     "text": [
      "Enter the value of var1: 22\n",
      "Enter the value of var2: 7\n"
     ]
    },
    {
     "name": "stdout",
     "output_type": "stream",
     "text": [
      "var3: 3.142857142857143\n"
     ]
    }
   ],
   "source": [
    "var1 = float(input(\"Enter the value of var1:\"))\n",
    "var2 = float(input(\"Enter the value of var2:\"))\n",
    "\n",
    "var3 = var1/var2\n",
    "print(\"var3: {}\".format(var3))"
   ]
  },
  {
   "cell_type": "code",
   "execution_count": 98,
   "metadata": {},
   "outputs": [
    {
     "ename": "IndentationError",
     "evalue": "expected an indented block (<ipython-input-98-a35b25851a81>, line 8)",
     "output_type": "error",
     "traceback": [
      "\u001b[1;36m  File \u001b[1;32m\"<ipython-input-98-a35b25851a81>\"\u001b[1;36m, line \u001b[1;32m8\u001b[0m\n\u001b[1;33m    print(\"You are old enough to vote.\")\u001b[0m\n\u001b[1;37m    ^\u001b[0m\n\u001b[1;31mIndentationError\u001b[0m\u001b[1;31m:\u001b[0m expected an indented block\n"
     ]
    }
   ],
   "source": [
    "# Conditional Statements\n",
    "name = input(\"Enter your name:\")\n",
    "age = int(input(\"How old are you, {}?\".format(name)))\n",
    "\n",
    "print(\"Your age is {}.\".format(age))\n",
    "\n",
    "if age >= 18:\n",
    "    print(\"You are old enough to vote.\")\n",
    "else:\n",
    "    print(\"Please come back after {} years.\".format(18 - age))"
   ]
  },
  {
   "cell_type": "code",
   "execution_count": null,
   "metadata": {},
   "outputs": [],
   "source": [
    "print(\"Please enter the value between 1 to 10:\")\n",
    "guess = int(input())\n",
    "\n",
    "if guess != 5:\n",
    "    if guess < 5:\n",
    "        print(\"Please guess higher.\")\n",
    "    else:\n",
    "        print(\"Please guess lower\")\n",
    "    "
   ]
  }
 ],
 "metadata": {
  "kernelspec": {
   "display_name": "Python 3",
   "language": "python",
   "name": "python3"
  },
  "language_info": {
   "codemirror_mode": {
    "name": "ipython",
    "version": 3
   },
   "file_extension": ".py",
   "mimetype": "text/x-python",
   "name": "python",
   "nbconvert_exporter": "python",
   "pygments_lexer": "ipython3",
   "version": "3.8.6"
  }
 },
 "nbformat": 4,
 "nbformat_minor": 4
}
