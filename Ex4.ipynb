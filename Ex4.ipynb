{
 "cells": [
  {
   "cell_type": "markdown",
   "metadata": {},
   "source": [
    "# Iter & Range()"
   ]
  },
  {
   "cell_type": "code",
   "execution_count": 1,
   "metadata": {
    "collapsed": true,
    "jupyter": {
     "outputs_hidden": true
    }
   },
   "outputs": [
    {
     "name": "stdout",
     "output_type": "stream",
     "text": [
      "1\n",
      "2\n",
      "3\n",
      "4\n",
      "5\n",
      "6\n",
      "7\n",
      "8\n",
      "9\n",
      "0\n"
     ]
    }
   ],
   "source": [
    "string = \"1234567890\"\n",
    "\n",
    "for char in string:\n",
    "    print(char)"
   ]
  },
  {
   "cell_type": "code",
   "execution_count": 5,
   "metadata": {
    "collapsed": true,
    "jupyter": {
     "outputs_hidden": true
    }
   },
   "outputs": [
    {
     "name": "stdout",
     "output_type": "stream",
     "text": [
      "<str_iterator object at 0x000002988E549550>\n",
      "1\n",
      "2\n",
      "3\n",
      "4\n",
      "5\n",
      "6\n"
     ]
    }
   ],
   "source": [
    "string = \"1234567890\"\n",
    "\n",
    "my_iter = iter(string)\n",
    "\n",
    "print(my_iter)\n",
    "print(next(my_iter))\n",
    "print(next(my_iter))\n",
    "print(next(my_iter))\n",
    "print(next(my_iter))\n",
    "print(next(my_iter))\n",
    "print(next(my_iter))"
   ]
  },
  {
   "cell_type": "code",
   "execution_count": 6,
   "metadata": {
    "collapsed": true,
    "jupyter": {
     "outputs_hidden": true
    }
   },
   "outputs": [
    {
     "name": "stdout",
     "output_type": "stream",
     "text": [
      "1\n",
      "2\n",
      "3\n",
      "4\n",
      "5\n",
      "6\n",
      "7\n",
      "8\n",
      "9\n",
      "0\n"
     ]
    }
   ],
   "source": [
    "string = \"1234567890\"\n",
    "\n",
    "for char in iter(string):\n",
    "    print(char)"
   ]
  },
  {
   "cell_type": "code",
   "execution_count": 8,
   "metadata": {},
   "outputs": [
    {
     "name": "stdout",
     "output_type": "stream",
     "text": [
      "<list_iterator object at 0x000002988F10B910>\n",
      "Sunday\n",
      "Monday\n",
      "Tuesday\n",
      "Wednesday\n",
      "Thrusday\n",
      "Friday\n",
      "Saturday\n"
     ]
    }
   ],
   "source": [
    "l1 = [\"Sunday\", \"Monday\", \"Tuesday\", \"Wednesday\", \"Thrusday\", \"Friday\", \"Saturday\"]\n",
    "\n",
    "my_iter = iter(l1)\n",
    "\n",
    "print(my_iter)\n",
    "\n",
    "for i in range(0, len(l1)):\n",
    "    next_item = next(my_iter)\n",
    "    print(next_item)"
   ]
  },
  {
   "cell_type": "code",
   "execution_count": 9,
   "metadata": {},
   "outputs": [
    {
     "name": "stdout",
     "output_type": "stream",
     "text": [
      "Sunday\n",
      "Monday\n",
      "Tuesday\n",
      "Wednesday\n",
      "Thrusday\n",
      "Friday\n",
      "Saturday\n"
     ]
    }
   ],
   "source": [
    "for i in l1:\n",
    "    print(i)"
   ]
  },
  {
   "cell_type": "markdown",
   "metadata": {},
   "source": [
    "# Dictionaries"
   ]
  },
  {
   "cell_type": "code",
   "execution_count": 10,
   "metadata": {},
   "outputs": [],
   "source": [
    "mydict = {\"Key1\":\"Value1\", \"Key2\":\"Value2\", \"Key3\":\"Value3\"}"
   ]
  },
  {
   "cell_type": "code",
   "execution_count": 11,
   "metadata": {},
   "outputs": [
    {
     "data": {
      "text/plain": [
       "{'Key1': 'Value1', 'Key2': 'Value2', 'Key3': 'Value3'}"
      ]
     },
     "execution_count": 11,
     "metadata": {},
     "output_type": "execute_result"
    }
   ],
   "source": [
    "mydict"
   ]
  },
  {
   "cell_type": "code",
   "execution_count": 12,
   "metadata": {},
   "outputs": [
    {
     "data": {
      "text/plain": [
       "'Value3'"
      ]
     },
     "execution_count": 12,
     "metadata": {},
     "output_type": "execute_result"
    }
   ],
   "source": [
    "mydict[\"Key3\"]"
   ]
  },
  {
   "cell_type": "code",
   "execution_count": 13,
   "metadata": {},
   "outputs": [
    {
     "data": {
      "text/plain": [
       "'Value1'"
      ]
     },
     "execution_count": 13,
     "metadata": {},
     "output_type": "execute_result"
    }
   ],
   "source": [
    "mydict[\"Key1\"]"
   ]
  },
  {
   "cell_type": "code",
   "execution_count": 14,
   "metadata": {},
   "outputs": [],
   "source": [
    "l1 = [10,20,30,40]"
   ]
  },
  {
   "cell_type": "code",
   "execution_count": 15,
   "metadata": {},
   "outputs": [],
   "source": [
    "l2 = [20,30,10,40]"
   ]
  },
  {
   "cell_type": "code",
   "execution_count": 17,
   "metadata": {},
   "outputs": [
    {
     "data": {
      "text/plain": [
       "False"
      ]
     },
     "execution_count": 17,
     "metadata": {},
     "output_type": "execute_result"
    }
   ],
   "source": [
    "l1 == l2"
   ]
  },
  {
   "cell_type": "code",
   "execution_count": 18,
   "metadata": {},
   "outputs": [],
   "source": [
    "dict1 = {\"Key1\":\"Value1\", \"Key2\":\"Value2\", \"Key3\":\"Value3\"}"
   ]
  },
  {
   "cell_type": "code",
   "execution_count": 21,
   "metadata": {},
   "outputs": [],
   "source": [
    "dict2 = {\"Key2\":\"Value2\", \"Key3\":\"Value3\", \"Key1\":\"Value4\"}"
   ]
  },
  {
   "cell_type": "code",
   "execution_count": 22,
   "metadata": {},
   "outputs": [
    {
     "data": {
      "text/plain": [
       "False"
      ]
     },
     "execution_count": 22,
     "metadata": {},
     "output_type": "execute_result"
    }
   ],
   "source": [
    "dict1 == dict2"
   ]
  },
  {
   "cell_type": "code",
   "execution_count": 23,
   "metadata": {},
   "outputs": [],
   "source": [
    "dict2 = {\"key1\":1234567890, \"key2\":[10,20,30,40,50], \"key3\":[\"ml\",\"dl\",\"ds\",\"ai\"]}"
   ]
  },
  {
   "cell_type": "code",
   "execution_count": 24,
   "metadata": {},
   "outputs": [
    {
     "data": {
      "text/plain": [
       "{'key1': 1234567890,\n",
       " 'key2': [10, 20, 30, 40, 50],\n",
       " 'key3': ['ml', 'dl', 'ds', 'ai']}"
      ]
     },
     "execution_count": 24,
     "metadata": {},
     "output_type": "execute_result"
    }
   ],
   "source": [
    "dict2"
   ]
  },
  {
   "cell_type": "code",
   "execution_count": 26,
   "metadata": {},
   "outputs": [
    {
     "data": {
      "text/plain": [
       "[20, 30, 40]"
      ]
     },
     "execution_count": 26,
     "metadata": {},
     "output_type": "execute_result"
    }
   ],
   "source": [
    "dict2[\"key2\"][1:-1]"
   ]
  },
  {
   "cell_type": "code",
   "execution_count": 28,
   "metadata": {},
   "outputs": [
    {
     "data": {
      "text/plain": [
       "{'key1': 1234567890,\n",
       " 'key2': [10, 20, 30, 40, 50],\n",
       " 'key3': ['ml', 'dl', 'ds', 'ai']}"
      ]
     },
     "execution_count": 28,
     "metadata": {},
     "output_type": "execute_result"
    }
   ],
   "source": [
    "dict2"
   ]
  },
  {
   "cell_type": "code",
   "execution_count": 29,
   "metadata": {},
   "outputs": [
    {
     "data": {
      "text/plain": [
       "dict_keys(['key1', 'key2', 'key3'])"
      ]
     },
     "execution_count": 29,
     "metadata": {},
     "output_type": "execute_result"
    }
   ],
   "source": [
    "dict2.keys()"
   ]
  },
  {
   "cell_type": "code",
   "execution_count": 30,
   "metadata": {},
   "outputs": [
    {
     "data": {
      "text/plain": [
       "dict_values([1234567890, [10, 20, 30, 40, 50], ['ml', 'dl', 'ds', 'ai']])"
      ]
     },
     "execution_count": 30,
     "metadata": {},
     "output_type": "execute_result"
    }
   ],
   "source": [
    "dict2.values()"
   ]
  },
  {
   "cell_type": "code",
   "execution_count": 31,
   "metadata": {},
   "outputs": [
    {
     "data": {
      "text/plain": [
       "dict_items([('key1', 1234567890), ('key2', [10, 20, 30, 40, 50]), ('key3', ['ml', 'dl', 'ds', 'ai'])])"
      ]
     },
     "execution_count": 31,
     "metadata": {},
     "output_type": "execute_result"
    }
   ],
   "source": [
    "dict2.items()\n"
   ]
  },
  {
   "cell_type": "markdown",
   "metadata": {},
   "source": [
    "# Exercise"
   ]
  },
  {
   "cell_type": "code",
   "execution_count": 6,
   "metadata": {},
   "outputs": [
    {
     "name": "stdout",
     "output_type": "stream",
     "text": [
      "Please enter the name:\n"
     ]
    },
    {
     "name": "stdin",
     "output_type": "stream",
     "text": [
      " Anil\n"
     ]
    },
    {
     "name": "stdout",
     "output_type": "stream",
     "text": [
      "Anil is not availabel.\n",
      "Do you wish to enter the birthday??\n"
     ]
    },
    {
     "name": "stdin",
     "output_type": "stream",
     "text": [
      " Aug5\n"
     ]
    },
    {
     "name": "stdout",
     "output_type": "stream",
     "text": [
      "Value updated!\n",
      "{'Vishwajeet': 'Aug1', 'Ayush': 'Aug2', 'Pranay': 'Aug3', 'Anil': 'Aug5'}\n",
      "Please enter the name:\n"
     ]
    },
    {
     "name": "stdin",
     "output_type": "stream",
     "text": [
      " Anil\n"
     ]
    },
    {
     "name": "stdout",
     "output_type": "stream",
     "text": [
      "Aug5 is the birthday of Anil\n",
      "Please enter the name:\n"
     ]
    },
    {
     "name": "stdin",
     "output_type": "stream",
     "text": [
      " quit\n"
     ]
    }
   ],
   "source": [
    "birthday = {\"Vishwajeet\":\"Aug1\", \"Ayush\":\"Aug2\", \"Pranay\":\"Aug3\"}\n",
    "\n",
    "while(1):\n",
    "    print(\"Please enter the name:\")\n",
    "    name = input()\n",
    "    \n",
    "    if name == \"quit\":\n",
    "        break\n",
    "      \n",
    "    if name in birthday:\n",
    "        print(birthday[name], 'is the birthday of', name)\n",
    "        print(birthday)\n",
    "        \n",
    "    else:\n",
    "        print(name, \"is not availabel.\")\n",
    "        print(\"Do you wish to enter the birthday??\")\n",
    "        bday = input()\n",
    "        \n",
    "        birthday[name] = bday\n",
    "        print(\"Value updated!\")\n",
    "        print(birthday)\n",
    "        "
   ]
  },
  {
   "cell_type": "code",
   "execution_count": 7,
   "metadata": {},
   "outputs": [],
   "source": [
    "message = 'It was a bright cold day in April, ' \\\n",
    "          'and the clocks were striking thirteen.'"
   ]
  },
  {
   "cell_type": "code",
   "execution_count": 10,
   "metadata": {},
   "outputs": [
    {
     "name": "stdout",
     "output_type": "stream",
     "text": [
      "{'I': 1, 't': 6, ' ': 13, 'w': 2, 'a': 4, 's': 3, 'b': 1, 'r': 5, 'i': 6, 'g': 2, 'h': 3, 'c': 3, 'o': 2, 'l': 3, 'd': 3, 'y': 1, 'n': 4, 'A': 1, 'p': 1, ',': 1, 'e': 5, 'k': 2, '.': 1}\n"
     ]
    }
   ],
   "source": [
    "dict1 = {}\n",
    "\n",
    "for i in message:\n",
    "    if i not in dict1:\n",
    "        dict1[i] = 1\n",
    "    else:\n",
    "        dict1[i] = dict1[i] + 1\n",
    "print(dict1)"
   ]
  },
  {
   "cell_type": "markdown",
   "metadata": {},
   "source": [
    "# File handling"
   ]
  },
  {
   "cell_type": "code",
   "execution_count": 19,
   "metadata": {},
   "outputs": [
    {
     "name": "stdout",
     "output_type": "stream",
     "text": [
      "Meerut\n",
      "Delhi\n",
      "Hyderabad\n",
      "Pune\n",
      "Mumbai\n",
      "Mumbai\n"
     ]
    }
   ],
   "source": [
    "# Writing\n",
    "cities = [\"Meerut\", \"Delhi\", \"Hyderabad\", \"Pune\", \"Mumbai\"]\n",
    "\n",
    "with open(\"cities.txt\", 'w') as city_file:\n",
    "for city in cities:\n",
    "    print(city)\n",
    "        \n",
    "print(city)"
   ]
  },
  {
   "cell_type": "code",
   "execution_count": 22,
   "metadata": {},
   "outputs": [
    {
     "name": "stdout",
     "output_type": "stream",
     "text": [
      "['Meerut', 'Delhi', 'Hyderabad', 'Pune', 'Mumbai']\n",
      "Meerut\n",
      "Delhi\n",
      "Hyderabad\n",
      "Pune\n",
      "Mumbai\n"
     ]
    }
   ],
   "source": [
    "l1 = []\n",
    "\n",
    "with open(\"cities.txt\", 'r') as city_file:\n",
    "    for city in city_file:\n",
    "        l1.append(city.strip('\\n'))\n",
    "print(l1)\n",
    "for city in l1:\n",
    "    print(city)"
   ]
  },
  {
   "cell_type": "code",
   "execution_count": 26,
   "metadata": {},
   "outputs": [],
   "source": [
    "c = [\"Agra\",\"Patna\",\"Kanpur\"]\n",
    "\n",
    "with open(\"cities.txt\", 'a') as cities:\n",
    "    for city in c:\n",
    "        print(city, file=cities)"
   ]
  },
  {
   "cell_type": "code",
   "execution_count": 28,
   "metadata": {},
   "outputs": [],
   "source": [
    "# Writing\n",
    "cities = [\"Meerut\", \"Delhi\", \"Hyderabad\", \"Pune\", \"Mumbai\"]\n",
    "\n",
    "with open(\"cities.txt\", 'w') as city_file:\n",
    "    for city in cities:\n",
    "        print(city, file=city_file, end=\",\")\n",
    "        \n"
   ]
  },
  {
   "cell_type": "code",
   "execution_count": 29,
   "metadata": {},
   "outputs": [],
   "source": [
    "c = [\"Agra\",\"Patna\",\"Kanpur\"]\n",
    "\n",
    "with open(\"cities.txt\", 'a') as cities:\n",
    "    for city in c:\n",
    "        print(city, file=cities)"
   ]
  },
  {
   "cell_type": "code",
   "execution_count": 31,
   "metadata": {},
   "outputs": [
    {
     "name": "stdout",
     "output_type": "stream",
     "text": [
      "Meerut,Delhi,Hyderabad,Pune,Mumbai,Agra\n",
      "\n",
      "Patna\n",
      "\n",
      "Kanpur\n",
      "\n"
     ]
    }
   ],
   "source": [
    "file = open(\"cities.txt\", 'r')\n",
    "\n",
    "for city in file:\n",
    "    print(city)\n",
    "file.close()"
   ]
  },
  {
   "cell_type": "code",
   "execution_count": 32,
   "metadata": {},
   "outputs": [
    {
     "name": "stdout",
     "output_type": "stream",
     "text": [
      "Meerut,Delhi,Hyderabad,Pune,Mumbai,Agra\n",
      "\n",
      "Patna\n",
      "\n",
      "Kanpur\n",
      "\n"
     ]
    }
   ],
   "source": [
    "with open(\"cities.txt\", 'r') as cities:\n",
    "    for city in cities:\n",
    "        print(city)"
   ]
  },
  {
   "cell_type": "code",
   "execution_count": null,
   "metadata": {},
   "outputs": [],
   "source": []
  }
 ],
 "metadata": {
  "kernelspec": {
   "display_name": "Python 3",
   "language": "python",
   "name": "python3"
  },
  "language_info": {
   "codemirror_mode": {
    "name": "ipython",
    "version": 3
   },
   "file_extension": ".py",
   "mimetype": "text/x-python",
   "name": "python",
   "nbconvert_exporter": "python",
   "pygments_lexer": "ipython3",
   "version": "3.8.6"
  }
 },
 "nbformat": 4,
 "nbformat_minor": 4
}
