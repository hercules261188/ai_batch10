{
 "cells": [
  {
   "cell_type": "markdown",
   "metadata": {},
   "source": [
    "# If & Else"
   ]
  },
  {
   "cell_type": "code",
   "execution_count": 6,
   "metadata": {},
   "outputs": [
    {
     "name": "stdout",
     "output_type": "stream",
     "text": [
      "Please guess a number between 1 and 10:\n"
     ]
    },
    {
     "name": "stdin",
     "output_type": "stream",
     "text": [
      " 8\n"
     ]
    },
    {
     "name": "stdout",
     "output_type": "stream",
     "text": [
      "Please guess lower.\n"
     ]
    },
    {
     "name": "stdin",
     "output_type": "stream",
     "text": [
      " 5\n"
     ]
    },
    {
     "name": "stdout",
     "output_type": "stream",
     "text": [
      "Well done, you gessed it.\n"
     ]
    }
   ],
   "source": [
    "print(\"Please guess a number between 1 and 10:\")\n",
    "guess = int(input())\n",
    "\n",
    "if guess < 5:\n",
    "    print(\"Please guess higher.\")\n",
    "    guess = int(input())\n",
    "    if guess == 5:\n",
    "        print(\"Well done, you gessed it.\")\n",
    "    else:\n",
    "        print(\"Sorry, Better luck next time.\")\n",
    "elif guess > 5:\n",
    "    print(\"Please guess lower.\")\n",
    "    guess = int(input())\n",
    "    if guess == 5:\n",
    "        print(\"Well done, you gessed it.\")\n",
    "    else:\n",
    "        print(\"Sorry, Better luck next time.\")\n",
    "else:\n",
    "    print(\"You got it for the first time.\")"
   ]
  },
  {
   "cell_type": "code",
   "execution_count": 10,
   "metadata": {},
   "outputs": [
    {
     "name": "stdout",
     "output_type": "stream",
     "text": [
      "Please guess a number between 1 and 10:\n"
     ]
    },
    {
     "name": "stdin",
     "output_type": "stream",
     "text": [
      " 5\n"
     ]
    },
    {
     "name": "stdout",
     "output_type": "stream",
     "text": [
      "You got it for the first time.\n"
     ]
    }
   ],
   "source": [
    "print(\"Please guess a number between 1 and 10:\")\n",
    "guess = int(input())\n",
    "\n",
    "if guess != 5:\n",
    "    if guess < 5:\n",
    "        print(\"Please guess higher\")\n",
    "    else:\n",
    "        print(\"Please guess lower\")\n",
    "    \n",
    "    guess = int(input())\n",
    "    if guess == 5:\n",
    "        print(\"Well done\")\n",
    "    else:\n",
    "        print(\"Sorry, better luck next time.\")\n",
    "\n",
    "else:\n",
    "    print(\"You got it for the first time.\")"
   ]
  },
  {
   "cell_type": "code",
   "execution_count": 54,
   "metadata": {},
   "outputs": [
    {
     "name": "stdout",
     "output_type": "stream",
     "text": [
      "6\n",
      "Please guess a number between 1 to 10:\n"
     ]
    },
    {
     "name": "stdin",
     "output_type": "stream",
     "text": [
      " 6\n"
     ]
    },
    {
     "name": "stdout",
     "output_type": "stream",
     "text": [
      "You got it first time.\n"
     ]
    }
   ],
   "source": [
    "import random\n",
    "\n",
    "start = 1\n",
    "end = 10\n",
    "\n",
    "ans = random.randint(start, end)\n",
    "# print(ans)\n",
    "print(\"Please guess a number between {} to {}:\".format(start,end))\n",
    "guess_num = int(input())\n",
    "if guess_num != ans:\n",
    "    if guess_num < ans:\n",
    "        print(\"Please guess higher\")\n",
    "    else:\n",
    "        print(\"Please guess lower\")\n",
    "    \n",
    "    guess_num = int(input())\n",
    "    if guess_num == ans:\n",
    "        print(\"Well done\")\n",
    "    else:\n",
    "        print(\"Sorry, better luck next time.\")\n",
    "\n",
    "else:\n",
    "    print(\"You got it first time.\")"
   ]
  },
  {
   "cell_type": "code",
   "execution_count": 57,
   "metadata": {
    "scrolled": true
   },
   "outputs": [
    {
     "name": "stdin",
     "output_type": "stream",
     "text": [
      "How old are you?? 65\n"
     ]
    },
    {
     "name": "stdout",
     "output_type": "stream",
     "text": [
      "have a good day at work.\n"
     ]
    }
   ],
   "source": [
    "age = int(input(\"How old are you??\"))\n",
    "\n",
    "if (age >= 16) and (age <= 65):\n",
    "    print(\"have a good day at work.\")\n",
    "else:\n",
    "    print(\"Enjoy\")"
   ]
  },
  {
   "cell_type": "markdown",
   "metadata": {},
   "source": [
    "# Loops\n",
    "- While\n",
    "- For"
   ]
  },
  {
   "cell_type": "code",
   "execution_count": 1,
   "metadata": {},
   "outputs": [
    {
     "name": "stdout",
     "output_type": "stream",
     "text": [
      "Var1: 1\n",
      "Var1: 2\n",
      "Var1: 3\n",
      "Var1: 4\n",
      "Var1: 5\n",
      "Var1: 6\n",
      "Var1: 7\n",
      "Var1: 8\n",
      "Var1: 9\n",
      "Var1: 10\n",
      "Var1: 11\n",
      "Var1: 12\n",
      "Var1: 13\n",
      "Var1: 14\n",
      "Var1: 15\n",
      "Var1: 16\n",
      "Var1: 17\n",
      "Var1: 18\n",
      "Var1: 19\n",
      "Var1: 20\n"
     ]
    }
   ],
   "source": [
    "import time\n",
    "var1 = 0\n",
    "\n",
    "while(var1 < 20):\n",
    "    print(\"Var1:\",(var1+1))\n",
    "    time.sleep(0.1)\n",
    "    var1+=1"
   ]
  },
  {
   "cell_type": "code",
   "execution_count": 6,
   "metadata": {},
   "outputs": [
    {
     "name": "stdin",
     "output_type": "stream",
     "text": [
      "Enter the number: 10\n"
     ]
    },
    {
     "name": "stdout",
     "output_type": "stream",
     "text": [
      "10 * 1 = 10\n",
      "10 * 2 = 20\n",
      "10 * 3 = 30\n",
      "10 * 4 = 40\n",
      "10 * 5 = 50\n",
      "10 * 6 = 60\n",
      "10 * 7 = 70\n",
      "10 * 8 = 80\n",
      "10 * 9 = 90\n",
      "10 * 10 = 100\n"
     ]
    },
    {
     "name": "stdin",
     "output_type": "stream",
     "text": [
      "Enter the number: 0\n"
     ]
    },
    {
     "name": "stdout",
     "output_type": "stream",
     "text": [
      "you are out of while loop\n"
     ]
    }
   ],
   "source": [
    "while(-3):\n",
    "    num = int(input(\"Enter the number:\"))\n",
    "    var1 = 1\n",
    "    if num == 0:\n",
    "        break\n",
    "    \n",
    "    while(var1 <= 10):\n",
    "      \n",
    "        var2 = var1 * num\n",
    "        print(f\"{num} * {var1} = {var2}\")\n",
    "        var1+=1\n",
    "\n",
    "print(\"you are out of while loop\")\n",
    "    "
   ]
  },
  {
   "cell_type": "markdown",
   "metadata": {},
   "source": [
    "# For Loop"
   ]
  },
  {
   "cell_type": "code",
   "execution_count": 16,
   "metadata": {},
   "outputs": [
    {
     "name": "stdout",
     "output_type": "stream",
     "text": [
      "value of var1: Vishwajeet\n",
      "value of var1: Ayush\n",
      "value of var1: Vivek\n",
      "value of var1: Vishal\n"
     ]
    }
   ],
   "source": [
    "name = [\"Vishwajeet\", \"Ayush\", \"Vivek\", \"Vishal\"]\n",
    "for var1 in name:\n",
    "    print(\"value of var1:\",var1)"
   ]
  },
  {
   "cell_type": "code",
   "execution_count": 18,
   "metadata": {},
   "outputs": [
    {
     "name": "stdin",
     "output_type": "stream",
     "text": [
      "Enter the value: 10\n"
     ]
    },
    {
     "name": "stdout",
     "output_type": "stream",
     "text": [
      "10 * 1 = 10\n",
      "10 * 2 = 20\n",
      "10 * 3 = 30\n",
      "10 * 4 = 40\n",
      "10 * 5 = 50\n",
      "10 * 6 = 60\n",
      "10 * 7 = 70\n",
      "10 * 8 = 80\n",
      "10 * 9 = 90\n",
      "10 * 10 = 100\n"
     ]
    },
    {
     "name": "stdin",
     "output_type": "stream",
     "text": [
      "Enter the value: 0\n"
     ]
    }
   ],
   "source": [
    "while True:\n",
    "    num = int(input(\"Enter the value:\"))\n",
    "    if num == 0:\n",
    "        break\n",
    "    for var1 in range(1,11):\n",
    "        var2 = var1 * num\n",
    "        print(f\"{num} * {var1} = {var2}\")\n",
    "        "
   ]
  },
  {
   "cell_type": "markdown",
   "metadata": {},
   "source": [
    "# Functions"
   ]
  },
  {
   "cell_type": "code",
   "execution_count": 19,
   "metadata": {},
   "outputs": [],
   "source": [
    "def fun_name(arg1,agr2):\n",
    "    func_logic"
   ]
  },
  {
   "cell_type": "code",
   "execution_count": 24,
   "metadata": {},
   "outputs": [],
   "source": [
    "def func1():\n",
    "    print(\"This is our first function\")"
   ]
  },
  {
   "cell_type": "code",
   "execution_count": 25,
   "metadata": {},
   "outputs": [
    {
     "name": "stdout",
     "output_type": "stream",
     "text": [
      "This is our first function\n"
     ]
    }
   ],
   "source": [
    "func1()"
   ]
  },
  {
   "cell_type": "code",
   "execution_count": 26,
   "metadata": {},
   "outputs": [],
   "source": [
    "def tabel():\n",
    "    num = int(input(\"PLease enter the value:\"))\n",
    "    for i in range(1,11):\n",
    "        print(f\"{num} * {i} = {num * i}\")"
   ]
  },
  {
   "cell_type": "code",
   "execution_count": 27,
   "metadata": {},
   "outputs": [
    {
     "name": "stdin",
     "output_type": "stream",
     "text": [
      "PLease enter the value: 10\n"
     ]
    },
    {
     "name": "stdout",
     "output_type": "stream",
     "text": [
      "10 * 1 = 10\n",
      "10 * 2 = 20\n",
      "10 * 3 = 30\n",
      "10 * 4 = 40\n",
      "10 * 5 = 50\n",
      "10 * 6 = 60\n",
      "10 * 7 = 70\n",
      "10 * 8 = 80\n",
      "10 * 9 = 90\n",
      "10 * 10 = 100\n"
     ]
    }
   ],
   "source": [
    "tabel()"
   ]
  },
  {
   "cell_type": "code",
   "execution_count": 28,
   "metadata": {},
   "outputs": [],
   "source": [
    "# Type-1 No Args & No Return type"
   ]
  },
  {
   "cell_type": "code",
   "execution_count": 29,
   "metadata": {},
   "outputs": [],
   "source": [
    "def func2():\n",
    "    var1 = int(input(\"Var1:\"))\n",
    "    var2 = int(input(\"var2:\"))\n",
    "    \n",
    "    var3 = var1 + var2\n",
    "    print(\"Add:\",var3)"
   ]
  },
  {
   "cell_type": "code",
   "execution_count": 30,
   "metadata": {},
   "outputs": [
    {
     "name": "stdin",
     "output_type": "stream",
     "text": [
      "Var1: 2\n",
      "var2: 56\n"
     ]
    },
    {
     "name": "stdout",
     "output_type": "stream",
     "text": [
      "Add: 58\n"
     ]
    }
   ],
   "source": [
    "func2()"
   ]
  },
  {
   "cell_type": "code",
   "execution_count": 31,
   "metadata": {},
   "outputs": [],
   "source": [
    "# Type-2 With Args & No Return type"
   ]
  },
  {
   "cell_type": "code",
   "execution_count": 32,
   "metadata": {},
   "outputs": [],
   "source": [
    "def func3(var1,var2):\n",
    "    var3 = var1 ** var2\n",
    "    print(\"Pow:\",var3)"
   ]
  },
  {
   "cell_type": "code",
   "execution_count": 33,
   "metadata": {},
   "outputs": [
    {
     "name": "stdout",
     "output_type": "stream",
     "text": [
      "Pow: 256\n"
     ]
    }
   ],
   "source": [
    "func3(2,8)"
   ]
  },
  {
   "cell_type": "code",
   "execution_count": 34,
   "metadata": {},
   "outputs": [],
   "source": [
    "# Type-3 No Args & with Return type"
   ]
  },
  {
   "cell_type": "code",
   "execution_count": 39,
   "metadata": {},
   "outputs": [],
   "source": [
    "def func4():\n",
    "    var1 = int(input(\"Enter the value of var1:\"))\n",
    "    var2 = int(input(\"Enter the value of var2:\"))\n",
    "    \n",
    "    var3 = var1/var2\n",
    "    var4 = var1 * var2\n",
    "    return (var3,var4)"
   ]
  },
  {
   "cell_type": "code",
   "execution_count": 41,
   "metadata": {},
   "outputs": [
    {
     "name": "stdin",
     "output_type": "stream",
     "text": [
      "Enter the value of var1: 10\n",
      "Enter the value of var2: 3\n"
     ]
    },
    {
     "name": "stdout",
     "output_type": "stream",
     "text": [
      "(3.3333333333333335, 30)\n"
     ]
    }
   ],
   "source": [
    "print(func4())"
   ]
  },
  {
   "cell_type": "code",
   "execution_count": 38,
   "metadata": {},
   "outputs": [
    {
     "name": "stdin",
     "output_type": "stream",
     "text": [
      "Enter the value of var1: 10\n",
      "Enter the value of var2: 3\n"
     ]
    },
    {
     "name": "stdout",
     "output_type": "stream",
     "text": [
      "Division: 3.3333333333333335\n"
     ]
    }
   ],
   "source": [
    "var4 = func4()\n",
    "print(\"Division:\",var4)"
   ]
  },
  {
   "cell_type": "code",
   "execution_count": 42,
   "metadata": {},
   "outputs": [],
   "source": [
    "# Type-4 With Args & with Return type"
   ]
  },
  {
   "cell_type": "code",
   "execution_count": 50,
   "metadata": {},
   "outputs": [],
   "source": [
    "def func5(num1):\n",
    "    fact = 1\n",
    "    if num1 > 0:\n",
    "        for i in range(1, num1+1):\n",
    "            fact = fact*i\n",
    "        return fact\n",
    "    "
   ]
  },
  {
   "cell_type": "code",
   "execution_count": 54,
   "metadata": {},
   "outputs": [
    {
     "name": "stdout",
     "output_type": "stream",
     "text": [
      "720\n"
     ]
    }
   ],
   "source": [
    "print(func5(6))"
   ]
  },
  {
   "cell_type": "code",
   "execution_count": null,
   "metadata": {},
   "outputs": [],
   "source": []
  }
 ],
 "metadata": {
  "kernelspec": {
   "display_name": "Python 3",
   "language": "python",
   "name": "python3"
  },
  "language_info": {
   "codemirror_mode": {
    "name": "ipython",
    "version": 3
   },
   "file_extension": ".py",
   "mimetype": "text/x-python",
   "name": "python",
   "nbconvert_exporter": "python",
   "pygments_lexer": "ipython3",
   "version": "3.8.6"
  }
 },
 "nbformat": 4,
 "nbformat_minor": 4
}
